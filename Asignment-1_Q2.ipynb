{
 "cells": [
  {
   "cell_type": "code",
   "execution_count": 1,
   "id": "017fa092",
   "metadata": {},
   "outputs": [],
   "source": [
    "import numpy as np\n",
    "import matplotlib.pyplot as plt\n",
    "import pandas as pd"
   ]
  },
  {
   "cell_type": "code",
   "execution_count": 6,
   "id": "9e4d8e39",
   "metadata": {},
   "outputs": [],
   "source": [
    "arr = np.random.randint(1, 100, size = (4, 4, 4))   #NP array of 4*4*4"
   ]
  },
  {
   "cell_type": "code",
   "execution_count": 7,
   "id": "8d3d8f90",
   "metadata": {},
   "outputs": [
    {
     "data": {
      "text/plain": [
       "array([[[82,  8, 86, 93],\n",
       "        [39, 48, 21, 31],\n",
       "        [51, 25, 52, 81],\n",
       "        [99, 29, 51, 23]],\n",
       "\n",
       "       [[92, 55, 89,  1],\n",
       "        [17, 86, 69, 20],\n",
       "        [14, 92, 65, 87],\n",
       "        [37, 57, 80, 79]],\n",
       "\n",
       "       [[89, 49,  6, 39],\n",
       "        [67, 38, 80, 58],\n",
       "        [65, 46, 95, 29],\n",
       "        [41, 23, 34, 97]],\n",
       "\n",
       "       [[65, 79, 11,  5],\n",
       "        [58, 40, 40, 10],\n",
       "        [55, 68, 36, 54],\n",
       "        [15, 85, 77, 72]]])"
      ]
     },
     "execution_count": 7,
     "metadata": {},
     "output_type": "execute_result"
    }
   ],
   "source": [
    "arr"
   ]
  },
  {
   "cell_type": "code",
   "execution_count": 8,
   "id": "d2642ea0",
   "metadata": {},
   "outputs": [
    {
     "data": {
      "text/plain": [
       "(4, 4, 4)"
      ]
     },
     "execution_count": 8,
     "metadata": {},
     "output_type": "execute_result"
    }
   ],
   "source": [
    "arr.shape"
   ]
  },
  {
   "cell_type": "code",
   "execution_count": 9,
   "id": "f962bd74",
   "metadata": {},
   "outputs": [
    {
     "data": {
      "text/plain": [
       "52.890625"
      ]
     },
     "execution_count": 9,
     "metadata": {},
     "output_type": "execute_result"
    }
   ],
   "source": [
    "arr.mean()"
   ]
  },
  {
   "cell_type": "code",
   "execution_count": 10,
   "id": "bf7bb13e",
   "metadata": {},
   "outputs": [
    {
     "data": {
      "text/plain": [
       "52.890625"
      ]
     },
     "execution_count": 10,
     "metadata": {},
     "output_type": "execute_result"
    }
   ],
   "source": [
    "np.mean(arr)"
   ]
  },
  {
   "cell_type": "code",
   "execution_count": 167,
   "id": "bf81cb6b",
   "metadata": {},
   "outputs": [],
   "source": [
    "df = pd.read_csv('hawks_main.csv')\n",
    "df1 = df"
   ]
  },
  {
   "cell_type": "code",
   "execution_count": 154,
   "id": "4f0e0ecd",
   "metadata": {},
   "outputs": [
    {
     "data": {
      "text/plain": [
       "(446, 9)"
      ]
     },
     "execution_count": 154,
     "metadata": {},
     "output_type": "execute_result"
    }
   ],
   "source": [
    "df.shape"
   ]
  },
  {
   "cell_type": "code",
   "execution_count": 155,
   "id": "a1b9a161",
   "metadata": {},
   "outputs": [],
   "source": [
    "df = df[(df.Weight >= 500)]   #Filtered by weight > 500lb"
   ]
  },
  {
   "cell_type": "code",
   "execution_count": 156,
   "id": "b55c8bfd",
   "metadata": {},
   "outputs": [
    {
     "data": {
      "text/plain": [
       "(294, 9)"
      ]
     },
     "execution_count": 156,
     "metadata": {},
     "output_type": "execute_result"
    }
   ],
   "source": [
    "df.shape"
   ]
  },
  {
   "cell_type": "code",
   "execution_count": 157,
   "id": "4dd5ca24",
   "metadata": {},
   "outputs": [
    {
     "data": {
      "text/html": [
       "<div>\n",
       "<style scoped>\n",
       "    .dataframe tbody tr th:only-of-type {\n",
       "        vertical-align: middle;\n",
       "    }\n",
       "\n",
       "    .dataframe tbody tr th {\n",
       "        vertical-align: top;\n",
       "    }\n",
       "\n",
       "    .dataframe thead th {\n",
       "        text-align: right;\n",
       "    }\n",
       "</style>\n",
       "<table border=\"1\" class=\"dataframe\">\n",
       "  <thead>\n",
       "    <tr style=\"text-align: right;\">\n",
       "      <th></th>\n",
       "      <th>Year</th>\n",
       "      <th>Species</th>\n",
       "      <th>Wing</th>\n",
       "      <th>Weight</th>\n",
       "      <th>Tail</th>\n",
       "      <th>Hallux</th>\n",
       "      <th>Coopers?</th>\n",
       "      <th>Red-tailed?</th>\n",
       "      <th>Sharp-shinned?</th>\n",
       "    </tr>\n",
       "  </thead>\n",
       "  <tbody>\n",
       "    <tr>\n",
       "      <th>0</th>\n",
       "      <td>1994</td>\n",
       "      <td>RT</td>\n",
       "      <td>277.0</td>\n",
       "      <td>940.0</td>\n",
       "      <td>218</td>\n",
       "      <td>30.4</td>\n",
       "      <td>0</td>\n",
       "      <td>1</td>\n",
       "      <td>0</td>\n",
       "    </tr>\n",
       "    <tr>\n",
       "      <th>1</th>\n",
       "      <td>1997</td>\n",
       "      <td>RT</td>\n",
       "      <td>373.0</td>\n",
       "      <td>914.0</td>\n",
       "      <td>221</td>\n",
       "      <td>30.4</td>\n",
       "      <td>0</td>\n",
       "      <td>1</td>\n",
       "      <td>0</td>\n",
       "    </tr>\n",
       "    <tr>\n",
       "      <th>2</th>\n",
       "      <td>2000</td>\n",
       "      <td>RT</td>\n",
       "      <td>379.0</td>\n",
       "      <td>1000.0</td>\n",
       "      <td>217</td>\n",
       "      <td>32.2</td>\n",
       "      <td>0</td>\n",
       "      <td>1</td>\n",
       "      <td>0</td>\n",
       "    </tr>\n",
       "    <tr>\n",
       "      <th>3</th>\n",
       "      <td>2000</td>\n",
       "      <td>RT</td>\n",
       "      <td>392.0</td>\n",
       "      <td>1185.0</td>\n",
       "      <td>229</td>\n",
       "      <td>33.0</td>\n",
       "      <td>0</td>\n",
       "      <td>1</td>\n",
       "      <td>0</td>\n",
       "    </tr>\n",
       "    <tr>\n",
       "      <th>4</th>\n",
       "      <td>2002</td>\n",
       "      <td>RT</td>\n",
       "      <td>365.0</td>\n",
       "      <td>1125.0</td>\n",
       "      <td>213</td>\n",
       "      <td>29.3</td>\n",
       "      <td>0</td>\n",
       "      <td>1</td>\n",
       "      <td>0</td>\n",
       "    </tr>\n",
       "    <tr>\n",
       "      <th>...</th>\n",
       "      <td>...</td>\n",
       "      <td>...</td>\n",
       "      <td>...</td>\n",
       "      <td>...</td>\n",
       "      <td>...</td>\n",
       "      <td>...</td>\n",
       "      <td>...</td>\n",
       "      <td>...</td>\n",
       "      <td>...</td>\n",
       "    </tr>\n",
       "    <tr>\n",
       "      <th>439</th>\n",
       "      <td>2001</td>\n",
       "      <td>RT</td>\n",
       "      <td>408.0</td>\n",
       "      <td>1390.0</td>\n",
       "      <td>245</td>\n",
       "      <td>32.7</td>\n",
       "      <td>0</td>\n",
       "      <td>1</td>\n",
       "      <td>0</td>\n",
       "    </tr>\n",
       "    <tr>\n",
       "      <th>440</th>\n",
       "      <td>1998</td>\n",
       "      <td>RT</td>\n",
       "      <td>410.0</td>\n",
       "      <td>1054.0</td>\n",
       "      <td>233</td>\n",
       "      <td>31.5</td>\n",
       "      <td>0</td>\n",
       "      <td>1</td>\n",
       "      <td>0</td>\n",
       "    </tr>\n",
       "    <tr>\n",
       "      <th>441</th>\n",
       "      <td>1995</td>\n",
       "      <td>RT</td>\n",
       "      <td>398.0</td>\n",
       "      <td>1240.0</td>\n",
       "      <td>243</td>\n",
       "      <td>30.8</td>\n",
       "      <td>0</td>\n",
       "      <td>1</td>\n",
       "      <td>0</td>\n",
       "    </tr>\n",
       "    <tr>\n",
       "      <th>443</th>\n",
       "      <td>2002</td>\n",
       "      <td>RT</td>\n",
       "      <td>412.0</td>\n",
       "      <td>1215.0</td>\n",
       "      <td>230</td>\n",
       "      <td>34.1</td>\n",
       "      <td>0</td>\n",
       "      <td>1</td>\n",
       "      <td>0</td>\n",
       "    </tr>\n",
       "    <tr>\n",
       "      <th>445</th>\n",
       "      <td>1994</td>\n",
       "      <td>RT</td>\n",
       "      <td>418.0</td>\n",
       "      <td>1180.0</td>\n",
       "      <td>235</td>\n",
       "      <td>341.4</td>\n",
       "      <td>0</td>\n",
       "      <td>1</td>\n",
       "      <td>0</td>\n",
       "    </tr>\n",
       "  </tbody>\n",
       "</table>\n",
       "<p>294 rows × 9 columns</p>\n",
       "</div>"
      ],
      "text/plain": [
       "     Year Species   Wing  Weight  Tail  Hallux  Coopers?  Red-tailed?  \\\n",
       "0    1994      RT  277.0   940.0   218    30.4         0            1   \n",
       "1    1997      RT  373.0   914.0   221    30.4         0            1   \n",
       "2    2000      RT  379.0  1000.0   217    32.2         0            1   \n",
       "3    2000      RT  392.0  1185.0   229    33.0         0            1   \n",
       "4    2002      RT  365.0  1125.0   213    29.3         0            1   \n",
       "..    ...     ...    ...     ...   ...     ...       ...          ...   \n",
       "439  2001      RT  408.0  1390.0   245    32.7         0            1   \n",
       "440  1998      RT  410.0  1054.0   233    31.5         0            1   \n",
       "441  1995      RT  398.0  1240.0   243    30.8         0            1   \n",
       "443  2002      RT  412.0  1215.0   230    34.1         0            1   \n",
       "445  1994      RT  418.0  1180.0   235   341.4         0            1   \n",
       "\n",
       "     Sharp-shinned?  \n",
       "0                 0  \n",
       "1                 0  \n",
       "2                 0  \n",
       "3                 0  \n",
       "4                 0  \n",
       "..              ...  \n",
       "439               0  \n",
       "440               0  \n",
       "441               0  \n",
       "443               0  \n",
       "445               0  \n",
       "\n",
       "[294 rows x 9 columns]"
      ]
     },
     "execution_count": 157,
     "metadata": {},
     "output_type": "execute_result"
    }
   ],
   "source": [
    "df"
   ]
  },
  {
   "cell_type": "code",
   "execution_count": 158,
   "id": "017590dc",
   "metadata": {},
   "outputs": [],
   "source": [
    "df = df[(df['Species'] == 'RT')]"
   ]
  },
  {
   "cell_type": "code",
   "execution_count": 159,
   "id": "91d9c4d7",
   "metadata": {},
   "outputs": [
    {
     "data": {
      "text/html": [
       "<div>\n",
       "<style scoped>\n",
       "    .dataframe tbody tr th:only-of-type {\n",
       "        vertical-align: middle;\n",
       "    }\n",
       "\n",
       "    .dataframe tbody tr th {\n",
       "        vertical-align: top;\n",
       "    }\n",
       "\n",
       "    .dataframe thead th {\n",
       "        text-align: right;\n",
       "    }\n",
       "</style>\n",
       "<table border=\"1\" class=\"dataframe\">\n",
       "  <thead>\n",
       "    <tr style=\"text-align: right;\">\n",
       "      <th></th>\n",
       "      <th>Weight</th>\n",
       "      <th>Wing</th>\n",
       "      <th>Tail</th>\n",
       "      <th>Hallux</th>\n",
       "    </tr>\n",
       "  </thead>\n",
       "  <tbody>\n",
       "    <tr>\n",
       "      <th>55</th>\n",
       "      <td>749.0</td>\n",
       "      <td>369.0</td>\n",
       "      <td>216</td>\n",
       "      <td>26.80</td>\n",
       "    </tr>\n",
       "    <tr>\n",
       "      <th>201</th>\n",
       "      <td>775.0</td>\n",
       "      <td>351.0</td>\n",
       "      <td>200</td>\n",
       "      <td>29.30</td>\n",
       "    </tr>\n",
       "    <tr>\n",
       "      <th>26</th>\n",
       "      <td>785.0</td>\n",
       "      <td>355.0</td>\n",
       "      <td>206</td>\n",
       "      <td>25.00</td>\n",
       "    </tr>\n",
       "    <tr>\n",
       "      <th>198</th>\n",
       "      <td>790.0</td>\n",
       "      <td>360.0</td>\n",
       "      <td>211</td>\n",
       "      <td>27.60</td>\n",
       "    </tr>\n",
       "    <tr>\n",
       "      <th>305</th>\n",
       "      <td>805.0</td>\n",
       "      <td>366.0</td>\n",
       "      <td>217</td>\n",
       "      <td>25.70</td>\n",
       "    </tr>\n",
       "    <tr>\n",
       "      <th>...</th>\n",
       "      <td>...</td>\n",
       "      <td>...</td>\n",
       "      <td>...</td>\n",
       "      <td>...</td>\n",
       "    </tr>\n",
       "    <tr>\n",
       "      <th>81</th>\n",
       "      <td>1525.0</td>\n",
       "      <td>380.0</td>\n",
       "      <td>224</td>\n",
       "      <td>27.60</td>\n",
       "    </tr>\n",
       "    <tr>\n",
       "      <th>113</th>\n",
       "      <td>1540.0</td>\n",
       "      <td>420.0</td>\n",
       "      <td>235</td>\n",
       "      <td>35.50</td>\n",
       "    </tr>\n",
       "    <tr>\n",
       "      <th>370</th>\n",
       "      <td>1560.0</td>\n",
       "      <td>399.0</td>\n",
       "      <td>228</td>\n",
       "      <td>33.85</td>\n",
       "    </tr>\n",
       "    <tr>\n",
       "      <th>252</th>\n",
       "      <td>1598.0</td>\n",
       "      <td>480.0</td>\n",
       "      <td>239</td>\n",
       "      <td>35.40</td>\n",
       "    </tr>\n",
       "    <tr>\n",
       "      <th>281</th>\n",
       "      <td>2030.0</td>\n",
       "      <td>372.0</td>\n",
       "      <td>196</td>\n",
       "      <td>30.20</td>\n",
       "    </tr>\n",
       "  </tbody>\n",
       "</table>\n",
       "<p>279 rows × 4 columns</p>\n",
       "</div>"
      ],
      "text/plain": [
       "     Weight   Wing  Tail  Hallux\n",
       "55    749.0  369.0   216   26.80\n",
       "201   775.0  351.0   200   29.30\n",
       "26    785.0  355.0   206   25.00\n",
       "198   790.0  360.0   211   27.60\n",
       "305   805.0  366.0   217   25.70\n",
       "..      ...    ...   ...     ...\n",
       "81   1525.0  380.0   224   27.60\n",
       "113  1540.0  420.0   235   35.50\n",
       "370  1560.0  399.0   228   33.85\n",
       "252  1598.0  480.0   239   35.40\n",
       "281  2030.0  372.0   196   30.20\n",
       "\n",
       "[279 rows x 4 columns]"
      ]
     },
     "execution_count": 159,
     "metadata": {},
     "output_type": "execute_result"
    }
   ],
   "source": [
    "df = df[['Weight', 'Wing', 'Tail', 'Hallux']]\n",
    "df.sort_values(by=['Weight'])"
   ]
  },
  {
   "cell_type": "code",
   "execution_count": 160,
   "id": "9eb08daa",
   "metadata": {},
   "outputs": [
    {
     "data": {
      "text/plain": [
       "<matplotlib.legend.Legend at 0x2240f3e2550>"
      ]
     },
     "execution_count": 160,
     "metadata": {},
     "output_type": "execute_result"
    },
    {
     "data": {
      "image/png": "[encoded data removed]",
      "text/plain": [
       "<Figure size 792x504 with 1 Axes>"
      ]
     },
     "metadata": {
      "needs_background": "light"
     },
     "output_type": "display_data"
    }
   ],
   "source": [
    "# df.set_index('Weight')\n",
    "# plt.figure();\n",
    "# df.plot(x = 'Weight', figsize = (11, 7));\n",
    "\n",
    "\n",
    "fig, ax = plt.subplots(figsize=(11, 7))\n",
    "ax.plot(list(df.Weight), list(df.Wing), label = 'Wing') \n",
    "ax.plot(list(df.Weight), list(df.Tail), label = 'Tail')  \n",
    "ax.plot(list(df.Weight), list(df.Hallux), label = 'Hallux')  \n",
    "ax.set_xlabel('Weight')  \n",
    "ax.set_ylabel('Length') \n",
    "ax.set_title(\"Hawks_data\")\n",
    "ax.legend()"
   ]
  },
  {
   "cell_type": "code",
   "execution_count": 161,
   "id": "9c9d7615",
   "metadata": {},
   "outputs": [],
   "source": [
    "df  = df[['Wing', 'Tail']]"
   ]
  },
  {
   "cell_type": "code",
   "execution_count": 162,
   "id": "4e89d20e",
   "metadata": {},
   "outputs": [
    {
     "data": {
      "text/plain": [
       "<Figure size 432x288 with 0 Axes>"
      ]
     },
     "metadata": {},
     "output_type": "display_data"
    },
    {
     "data": {
      "image/png": "[encoded data removed]",
      "text/plain": [
       "<Figure size 792x504 with 1 Axes>"
      ]
     },
     "metadata": {
      "needs_background": "light"
     },
     "output_type": "display_data"
    }
   ],
   "source": [
    "plt.figure();\n",
    "df.plot(x = 'Wing', figsize = (11, 7));"
   ]
  },
  {
   "cell_type": "markdown",
   "id": "082acb41",
   "metadata": {},
   "source": [
    "#### q4"
   ]
  },
  {
   "cell_type": "code",
   "execution_count": 123,
   "id": "abeccc82",
   "metadata": {
    "scrolled": true
   },
   "outputs": [],
   "source": [
    "dp = pd.DataFrame( np.random.randint(1, 100, size =(99,4)), index = [x for x in range(99)], columns = ['A', 'B', 'C', 'D'])"
   ]
  },
  {
   "cell_type": "code",
   "execution_count": 124,
   "id": "30cba10b",
   "metadata": {},
   "outputs": [
    {
     "data": {
      "text/html": [
       "<div>\n",
       "<style scoped>\n",
       "    .dataframe tbody tr th:only-of-type {\n",
       "        vertical-align: middle;\n",
       "    }\n",
       "\n",
       "    .dataframe tbody tr th {\n",
       "        vertical-align: top;\n",
       "    }\n",
       "\n",
       "    .dataframe thead th {\n",
       "        text-align: right;\n",
       "    }\n",
       "</style>\n",
       "<table border=\"1\" class=\"dataframe\">\n",
       "  <thead>\n",
       "    <tr style=\"text-align: right;\">\n",
       "      <th></th>\n",
       "      <th>A</th>\n",
       "      <th>B</th>\n",
       "      <th>C</th>\n",
       "      <th>D</th>\n",
       "    </tr>\n",
       "  </thead>\n",
       "  <tbody>\n",
       "    <tr>\n",
       "      <th>0</th>\n",
       "      <td>34</td>\n",
       "      <td>37</td>\n",
       "      <td>89</td>\n",
       "      <td>34</td>\n",
       "    </tr>\n",
       "    <tr>\n",
       "      <th>1</th>\n",
       "      <td>13</td>\n",
       "      <td>51</td>\n",
       "      <td>97</td>\n",
       "      <td>62</td>\n",
       "    </tr>\n",
       "    <tr>\n",
       "      <th>2</th>\n",
       "      <td>46</td>\n",
       "      <td>53</td>\n",
       "      <td>47</td>\n",
       "      <td>85</td>\n",
       "    </tr>\n",
       "    <tr>\n",
       "      <th>3</th>\n",
       "      <td>15</td>\n",
       "      <td>41</td>\n",
       "      <td>52</td>\n",
       "      <td>47</td>\n",
       "    </tr>\n",
       "    <tr>\n",
       "      <th>4</th>\n",
       "      <td>62</td>\n",
       "      <td>7</td>\n",
       "      <td>92</td>\n",
       "      <td>45</td>\n",
       "    </tr>\n",
       "    <tr>\n",
       "      <th>...</th>\n",
       "      <td>...</td>\n",
       "      <td>...</td>\n",
       "      <td>...</td>\n",
       "      <td>...</td>\n",
       "    </tr>\n",
       "    <tr>\n",
       "      <th>94</th>\n",
       "      <td>83</td>\n",
       "      <td>94</td>\n",
       "      <td>55</td>\n",
       "      <td>65</td>\n",
       "    </tr>\n",
       "    <tr>\n",
       "      <th>95</th>\n",
       "      <td>10</td>\n",
       "      <td>94</td>\n",
       "      <td>40</td>\n",
       "      <td>85</td>\n",
       "    </tr>\n",
       "    <tr>\n",
       "      <th>96</th>\n",
       "      <td>55</td>\n",
       "      <td>64</td>\n",
       "      <td>39</td>\n",
       "      <td>57</td>\n",
       "    </tr>\n",
       "    <tr>\n",
       "      <th>97</th>\n",
       "      <td>41</td>\n",
       "      <td>52</td>\n",
       "      <td>77</td>\n",
       "      <td>7</td>\n",
       "    </tr>\n",
       "    <tr>\n",
       "      <th>98</th>\n",
       "      <td>35</td>\n",
       "      <td>56</td>\n",
       "      <td>13</td>\n",
       "      <td>26</td>\n",
       "    </tr>\n",
       "  </tbody>\n",
       "</table>\n",
       "<p>99 rows × 4 columns</p>\n",
       "</div>"
      ],
      "text/plain": [
       "     A   B   C   D\n",
       "0   34  37  89  34\n",
       "1   13  51  97  62\n",
       "2   46  53  47  85\n",
       "3   15  41  52  47\n",
       "4   62   7  92  45\n",
       "..  ..  ..  ..  ..\n",
       "94  83  94  55  65\n",
       "95  10  94  40  85\n",
       "96  55  64  39  57\n",
       "97  41  52  77   7\n",
       "98  35  56  13  26\n",
       "\n",
       "[99 rows x 4 columns]"
      ]
     },
     "execution_count": 124,
     "metadata": {},
     "output_type": "execute_result"
    }
   ],
   "source": [
    "dp"
   ]
  },
  {
   "cell_type": "code",
   "execution_count": 130,
   "id": "b65d0902",
   "metadata": {},
   "outputs": [],
   "source": [
    "for col in dp.columns:\n",
    "    dp.loc[dp.sample(frac= .1).index, col] = np.nan"
   ]
  },
  {
   "cell_type": "code",
   "execution_count": 131,
   "id": "8e1a76ef",
   "metadata": {},
   "outputs": [
    {
     "data": {
      "text/html": [
       "<div>\n",
       "<style scoped>\n",
       "    .dataframe tbody tr th:only-of-type {\n",
       "        vertical-align: middle;\n",
       "    }\n",
       "\n",
       "    .dataframe tbody tr th {\n",
       "        vertical-align: top;\n",
       "    }\n",
       "\n",
       "    .dataframe thead th {\n",
       "        text-align: right;\n",
       "    }\n",
       "</style>\n",
       "<table border=\"1\" class=\"dataframe\">\n",
       "  <thead>\n",
       "    <tr style=\"text-align: right;\">\n",
       "      <th></th>\n",
       "      <th>A</th>\n",
       "      <th>B</th>\n",
       "      <th>C</th>\n",
       "      <th>D</th>\n",
       "    </tr>\n",
       "  </thead>\n",
       "  <tbody>\n",
       "    <tr>\n",
       "      <th>0</th>\n",
       "      <td>34.0</td>\n",
       "      <td>37.0</td>\n",
       "      <td>NaN</td>\n",
       "      <td>34.0</td>\n",
       "    </tr>\n",
       "    <tr>\n",
       "      <th>1</th>\n",
       "      <td>NaN</td>\n",
       "      <td>NaN</td>\n",
       "      <td>97.0</td>\n",
       "      <td>62.0</td>\n",
       "    </tr>\n",
       "    <tr>\n",
       "      <th>2</th>\n",
       "      <td>46.0</td>\n",
       "      <td>53.0</td>\n",
       "      <td>47.0</td>\n",
       "      <td>85.0</td>\n",
       "    </tr>\n",
       "    <tr>\n",
       "      <th>3</th>\n",
       "      <td>15.0</td>\n",
       "      <td>41.0</td>\n",
       "      <td>52.0</td>\n",
       "      <td>47.0</td>\n",
       "    </tr>\n",
       "    <tr>\n",
       "      <th>4</th>\n",
       "      <td>62.0</td>\n",
       "      <td>7.0</td>\n",
       "      <td>NaN</td>\n",
       "      <td>45.0</td>\n",
       "    </tr>\n",
       "    <tr>\n",
       "      <th>...</th>\n",
       "      <td>...</td>\n",
       "      <td>...</td>\n",
       "      <td>...</td>\n",
       "      <td>...</td>\n",
       "    </tr>\n",
       "    <tr>\n",
       "      <th>94</th>\n",
       "      <td>NaN</td>\n",
       "      <td>94.0</td>\n",
       "      <td>55.0</td>\n",
       "      <td>65.0</td>\n",
       "    </tr>\n",
       "    <tr>\n",
       "      <th>95</th>\n",
       "      <td>10.0</td>\n",
       "      <td>94.0</td>\n",
       "      <td>NaN</td>\n",
       "      <td>85.0</td>\n",
       "    </tr>\n",
       "    <tr>\n",
       "      <th>96</th>\n",
       "      <td>55.0</td>\n",
       "      <td>64.0</td>\n",
       "      <td>NaN</td>\n",
       "      <td>57.0</td>\n",
       "    </tr>\n",
       "    <tr>\n",
       "      <th>97</th>\n",
       "      <td>41.0</td>\n",
       "      <td>52.0</td>\n",
       "      <td>77.0</td>\n",
       "      <td>7.0</td>\n",
       "    </tr>\n",
       "    <tr>\n",
       "      <th>98</th>\n",
       "      <td>35.0</td>\n",
       "      <td>56.0</td>\n",
       "      <td>13.0</td>\n",
       "      <td>26.0</td>\n",
       "    </tr>\n",
       "  </tbody>\n",
       "</table>\n",
       "<p>99 rows × 4 columns</p>\n",
       "</div>"
      ],
      "text/plain": [
       "       A     B     C     D\n",
       "0   34.0  37.0   NaN  34.0\n",
       "1    NaN   NaN  97.0  62.0\n",
       "2   46.0  53.0  47.0  85.0\n",
       "3   15.0  41.0  52.0  47.0\n",
       "4   62.0   7.0   NaN  45.0\n",
       "..   ...   ...   ...   ...\n",
       "94   NaN  94.0  55.0  65.0\n",
       "95  10.0  94.0   NaN  85.0\n",
       "96  55.0  64.0   NaN  57.0\n",
       "97  41.0  52.0  77.0   7.0\n",
       "98  35.0  56.0  13.0  26.0\n",
       "\n",
       "[99 rows x 4 columns]"
      ]
     },
     "execution_count": 131,
     "metadata": {},
     "output_type": "execute_result"
    }
   ],
   "source": [
    "dp"
   ]
  },
  {
   "cell_type": "code",
   "execution_count": 165,
   "id": "f2c2926b",
   "metadata": {},
   "outputs": [
    {
     "data": {
      "text/html": [
       "<div>\n",
       "<style scoped>\n",
       "    .dataframe tbody tr th:only-of-type {\n",
       "        vertical-align: middle;\n",
       "    }\n",
       "\n",
       "    .dataframe tbody tr th {\n",
       "        vertical-align: top;\n",
       "    }\n",
       "\n",
       "    .dataframe thead th {\n",
       "        text-align: right;\n",
       "    }\n",
       "</style>\n",
       "<table border=\"1\" class=\"dataframe\">\n",
       "  <thead>\n",
       "    <tr style=\"text-align: right;\">\n",
       "      <th></th>\n",
       "      <th>A</th>\n",
       "      <th>B</th>\n",
       "      <th>C</th>\n",
       "      <th>D</th>\n",
       "    </tr>\n",
       "  </thead>\n",
       "  <tbody>\n",
       "    <tr>\n",
       "      <th>0</th>\n",
       "      <td>34.000000</td>\n",
       "      <td>37.000000</td>\n",
       "      <td>55.247191</td>\n",
       "      <td>34.0</td>\n",
       "    </tr>\n",
       "    <tr>\n",
       "      <th>1</th>\n",
       "      <td>50.629213</td>\n",
       "      <td>48.651685</td>\n",
       "      <td>97.000000</td>\n",
       "      <td>62.0</td>\n",
       "    </tr>\n",
       "    <tr>\n",
       "      <th>2</th>\n",
       "      <td>46.000000</td>\n",
       "      <td>53.000000</td>\n",
       "      <td>47.000000</td>\n",
       "      <td>85.0</td>\n",
       "    </tr>\n",
       "    <tr>\n",
       "      <th>3</th>\n",
       "      <td>15.000000</td>\n",
       "      <td>41.000000</td>\n",
       "      <td>52.000000</td>\n",
       "      <td>47.0</td>\n",
       "    </tr>\n",
       "    <tr>\n",
       "      <th>4</th>\n",
       "      <td>62.000000</td>\n",
       "      <td>7.000000</td>\n",
       "      <td>55.247191</td>\n",
       "      <td>45.0</td>\n",
       "    </tr>\n",
       "    <tr>\n",
       "      <th>...</th>\n",
       "      <td>...</td>\n",
       "      <td>...</td>\n",
       "      <td>...</td>\n",
       "      <td>...</td>\n",
       "    </tr>\n",
       "    <tr>\n",
       "      <th>94</th>\n",
       "      <td>50.629213</td>\n",
       "      <td>94.000000</td>\n",
       "      <td>55.000000</td>\n",
       "      <td>65.0</td>\n",
       "    </tr>\n",
       "    <tr>\n",
       "      <th>95</th>\n",
       "      <td>10.000000</td>\n",
       "      <td>94.000000</td>\n",
       "      <td>55.247191</td>\n",
       "      <td>85.0</td>\n",
       "    </tr>\n",
       "    <tr>\n",
       "      <th>96</th>\n",
       "      <td>55.000000</td>\n",
       "      <td>64.000000</td>\n",
       "      <td>55.247191</td>\n",
       "      <td>57.0</td>\n",
       "    </tr>\n",
       "    <tr>\n",
       "      <th>97</th>\n",
       "      <td>41.000000</td>\n",
       "      <td>52.000000</td>\n",
       "      <td>77.000000</td>\n",
       "      <td>7.0</td>\n",
       "    </tr>\n",
       "    <tr>\n",
       "      <th>98</th>\n",
       "      <td>35.000000</td>\n",
       "      <td>56.000000</td>\n",
       "      <td>13.000000</td>\n",
       "      <td>26.0</td>\n",
       "    </tr>\n",
       "  </tbody>\n",
       "</table>\n",
       "<p>99 rows × 4 columns</p>\n",
       "</div>"
      ],
      "text/plain": [
       "            A          B          C     D\n",
       "0   34.000000  37.000000  55.247191  34.0\n",
       "1   50.629213  48.651685  97.000000  62.0\n",
       "2   46.000000  53.000000  47.000000  85.0\n",
       "3   15.000000  41.000000  52.000000  47.0\n",
       "4   62.000000   7.000000  55.247191  45.0\n",
       "..        ...        ...        ...   ...\n",
       "94  50.629213  94.000000  55.000000  65.0\n",
       "95  10.000000  94.000000  55.247191  85.0\n",
       "96  55.000000  64.000000  55.247191  57.0\n",
       "97  41.000000  52.000000  77.000000   7.0\n",
       "98  35.000000  56.000000  13.000000  26.0\n",
       "\n",
       "[99 rows x 4 columns]"
      ]
     },
     "execution_count": 165,
     "metadata": {},
     "output_type": "execute_result"
    }
   ],
   "source": [
    "dp = dp.fillna(dp.mean())\n",
    "dp"
   ]
  },
  {
   "cell_type": "markdown",
   "id": "e92e16d6",
   "metadata": {},
   "source": [
    "#### q5"
   ]
  },
  {
   "cell_type": "code",
   "execution_count": 147,
   "id": "9837b672",
   "metadata": {},
   "outputs": [],
   "source": [
    "A = np.random.randint(10, 178, size = (5, 6))\n",
    "B = np.random.randint(0, 256, size = (6, 5))"
   ]
  },
  {
   "cell_type": "code",
   "execution_count": 148,
   "id": "713ce4b4",
   "metadata": {},
   "outputs": [
    {
     "data": {
      "text/plain": [
       "array([[ 28790, 105539,  89486,  52793,  76600],\n",
       "       [ 22880,  71355,  63985,  42872,  61375],\n",
       "       [ 26535,  86585,  70551,  54288,  82353],\n",
       "       [ 18867,  61426,  47611,  29691,  61191],\n",
       "       [ 23165,  78974,  75739,  49727,  75043]])"
      ]
     },
     "execution_count": 148,
     "metadata": {},
     "output_type": "execute_result"
    }
   ],
   "source": [
    "A@B"
   ]
  },
  {
   "cell_type": "code",
   "execution_count": 149,
   "id": "c90d477e",
   "metadata": {},
   "outputs": [],
   "source": [
    "mat = np.dot(A, B)"
   ]
  },
  {
   "cell_type": "code",
   "execution_count": 150,
   "id": "ab7ae385",
   "metadata": {},
   "outputs": [
    {
     "data": {
      "text/plain": [
       "array([[ 28790, 105539,  89486,  52793,  76600],\n",
       "       [ 22880,  71355,  63985,  42872,  61375],\n",
       "       [ 26535,  86585,  70551,  54288,  82353],\n",
       "       [ 18867,  61426,  47611,  29691,  61191],\n",
       "       [ 23165,  78974,  75739,  49727,  75043]])"
      ]
     },
     "execution_count": 150,
     "metadata": {},
     "output_type": "execute_result"
    }
   ],
   "source": [
    "mat"
   ]
  },
  {
   "cell_type": "code",
   "execution_count": 151,
   "id": "b7dd1190",
   "metadata": {},
   "outputs": [
    {
     "data": {
      "text/plain": [
       "-5.6513002112041596e+20"
      ]
     },
     "execution_count": 151,
     "metadata": {},
     "output_type": "execute_result"
    }
   ],
   "source": [
    "np.linalg.det(mat)"
   ]
  },
  {
   "cell_type": "markdown",
   "id": "8ec62ba6",
   "metadata": {},
   "source": [
    "#### q6"
   ]
  },
  {
   "cell_type": "code",
   "execution_count": 181,
   "id": "be11ca5a",
   "metadata": {},
   "outputs": [
    {
     "data": {
      "text/html": [
       "<div>\n",
       "<style scoped>\n",
       "    .dataframe tbody tr th:only-of-type {\n",
       "        vertical-align: middle;\n",
       "    }\n",
       "\n",
       "    .dataframe tbody tr th {\n",
       "        vertical-align: top;\n",
       "    }\n",
       "\n",
       "    .dataframe thead th {\n",
       "        text-align: right;\n",
       "    }\n",
       "</style>\n",
       "<table border=\"1\" class=\"dataframe\">\n",
       "  <thead>\n",
       "    <tr style=\"text-align: right;\">\n",
       "      <th></th>\n",
       "      <th>Wing</th>\n",
       "      <th>Weight</th>\n",
       "      <th>Tail</th>\n",
       "      <th>Hallux</th>\n",
       "    </tr>\n",
       "    <tr>\n",
       "      <th>Species</th>\n",
       "      <th></th>\n",
       "      <th></th>\n",
       "      <th></th>\n",
       "      <th></th>\n",
       "    </tr>\n",
       "  </thead>\n",
       "  <tbody>\n",
       "    <tr>\n",
       "      <th>CH</th>\n",
       "      <td>9204.0</td>\n",
       "      <td>16244.0</td>\n",
       "      <td>7599</td>\n",
       "      <td>862.50</td>\n",
       "    </tr>\n",
       "    <tr>\n",
       "      <th>RT</th>\n",
       "      <td>108008.2</td>\n",
       "      <td>307669.0</td>\n",
       "      <td>62645</td>\n",
       "      <td>9313.70</td>\n",
       "    </tr>\n",
       "    <tr>\n",
       "      <th>SS</th>\n",
       "      <td>23224.0</td>\n",
       "      <td>18604.0</td>\n",
       "      <td>18557</td>\n",
       "      <td>1887.85</td>\n",
       "    </tr>\n",
       "  </tbody>\n",
       "</table>\n",
       "</div>"
      ],
      "text/plain": [
       "             Wing    Weight   Tail   Hallux\n",
       "Species                                    \n",
       "CH         9204.0   16244.0   7599   862.50\n",
       "RT       108008.2  307669.0  62645  9313.70\n",
       "SS        23224.0   18604.0  18557  1887.85"
      ]
     },
     "execution_count": 181,
     "metadata": {},
     "output_type": "execute_result"
    }
   ],
   "source": [
    "df1.groupby(by=['Species']).sum().drop(columns=['Year', 'Red-tailed?', 'Coopers?', 'Sharp-shinned?'])"
   ]
  },
  {
   "cell_type": "markdown",
   "id": "eed5b009",
   "metadata": {},
   "source": [
    "#### q7"
   ]
  },
  {
   "cell_type": "code",
   "execution_count": 184,
   "id": "07c5387e",
   "metadata": {},
   "outputs": [],
   "source": [
    "mu, sigma = 0, 0.1 # normal distribution with mean and standard deviation\n",
    "s = np.random.normal(mu, sigma, 1000)"
   ]
  },
  {
   "cell_type": "code",
   "execution_count": 190,
   "id": "06729f1f",
   "metadata": {},
   "outputs": [
    {
     "data": {
      "image/png": "[encoded data removed]",
      "text/plain": [
       "<Figure size 432x288 with 1 Axes>"
      ]
     },
     "metadata": {
      "needs_background": "light"
     },
     "output_type": "display_data"
    }
   ],
   "source": [
    "count, bins, ignored = plt.hist(s, 30, density=True)\n",
    "plt.plot(bins, 1/(sigma * np.sqrt(2 * np.pi)) * np.exp( - (bins - mu)**2 / (2 * sigma**2) ), linewidth=2, color='r')\n",
    "plt.grid()\n",
    "plt.show()"
   ]
  },
  {
   "cell_type": "markdown",
   "id": "2f456723",
   "metadata": {},
   "source": [
    "#### q8"
   ]
  },
  {
   "cell_type": "code",
   "execution_count": 192,
   "id": "6ca38f83",
   "metadata": {},
   "outputs": [],
   "source": [
    "arr = np.random.randint(2, 200, size = (4, 4))"
   ]
  },
  {
   "cell_type": "code",
   "execution_count": 193,
   "id": "3f01f6eb",
   "metadata": {},
   "outputs": [
    {
     "data": {
      "text/plain": [
       "array([[ 71,  41, 185, 174],\n",
       "       [130, 123, 107,  93],\n",
       "       [188,  82,  52,   9],\n",
       "       [129, 162,  53,   8]])"
      ]
     },
     "execution_count": 193,
     "metadata": {},
     "output_type": "execute_result"
    }
   ],
   "source": [
    "arr"
   ]
  },
  {
   "cell_type": "code",
   "execution_count": 204,
   "id": "29d16173",
   "metadata": {},
   "outputs": [
    {
     "data": {
      "text/plain": [
       "array([129, 162,  53,   8])"
      ]
     },
     "execution_count": 204,
     "metadata": {},
     "output_type": "execute_result"
    }
   ],
   "source": [
    "arr[1] # second row\n",
    "arr[-1] # last row"
   ]
  },
  {
   "cell_type": "code",
   "execution_count": 205,
   "id": "bca8e752",
   "metadata": {},
   "outputs": [
    {
     "data": {
      "text/plain": [
       "array([185, 107,  52,  53])"
      ]
     },
     "execution_count": 205,
     "metadata": {},
     "output_type": "execute_result"
    }
   ],
   "source": [
    "arr[:, 2] # 3rd column"
   ]
  },
  {
   "cell_type": "code",
   "execution_count": 206,
   "id": "53571e0a",
   "metadata": {},
   "outputs": [
    {
     "data": {
      "text/plain": [
       "array([[123, 107],\n",
       "       [ 82,  52]])"
      ]
     },
     "execution_count": 206,
     "metadata": {},
     "output_type": "execute_result"
    }
   ],
   "source": [
    "arr[3, 3] # last element\n",
    "arr[1:3, 1:3] # 2*d subarray"
   ]
  },
  {
   "cell_type": "markdown",
   "id": "ef8cc410",
   "metadata": {},
   "source": [
    "#### q9"
   ]
  },
  {
   "cell_type": "code",
   "execution_count": 208,
   "id": "f261989d",
   "metadata": {},
   "outputs": [],
   "source": [
    "dp1 = pd.DataFrame( np.random.randint(1, 100, size =(100,4)), index = [x for x in range(100)], columns = ['A', 'B', 'C', 'D'])\n",
    "dp2 = pd.DataFrame( np.random.randint(200, 400, size =(100,4)), index = [x for x in range(100)], columns = ['E', 'F', 'G', 'H'])"
   ]
  },
  {
   "cell_type": "code",
   "execution_count": 210,
   "id": "e338b083",
   "metadata": {},
   "outputs": [
    {
     "data": {
      "text/html": [
       "<div>\n",
       "<style scoped>\n",
       "    .dataframe tbody tr th:only-of-type {\n",
       "        vertical-align: middle;\n",
       "    }\n",
       "\n",
       "    .dataframe tbody tr th {\n",
       "        vertical-align: top;\n",
       "    }\n",
       "\n",
       "    .dataframe thead th {\n",
       "        text-align: right;\n",
       "    }\n",
       "</style>\n",
       "<table border=\"1\" class=\"dataframe\">\n",
       "  <thead>\n",
       "    <tr style=\"text-align: right;\">\n",
       "      <th></th>\n",
       "      <th>A</th>\n",
       "      <th>B</th>\n",
       "      <th>C</th>\n",
       "      <th>D</th>\n",
       "    </tr>\n",
       "  </thead>\n",
       "  <tbody>\n",
       "    <tr>\n",
       "      <th>0</th>\n",
       "      <td>53</td>\n",
       "      <td>50</td>\n",
       "      <td>93</td>\n",
       "      <td>31</td>\n",
       "    </tr>\n",
       "    <tr>\n",
       "      <th>1</th>\n",
       "      <td>32</td>\n",
       "      <td>4</td>\n",
       "      <td>38</td>\n",
       "      <td>38</td>\n",
       "    </tr>\n",
       "    <tr>\n",
       "      <th>2</th>\n",
       "      <td>51</td>\n",
       "      <td>17</td>\n",
       "      <td>83</td>\n",
       "      <td>12</td>\n",
       "    </tr>\n",
       "    <tr>\n",
       "      <th>3</th>\n",
       "      <td>24</td>\n",
       "      <td>81</td>\n",
       "      <td>85</td>\n",
       "      <td>21</td>\n",
       "    </tr>\n",
       "    <tr>\n",
       "      <th>4</th>\n",
       "      <td>37</td>\n",
       "      <td>79</td>\n",
       "      <td>47</td>\n",
       "      <td>54</td>\n",
       "    </tr>\n",
       "    <tr>\n",
       "      <th>...</th>\n",
       "      <td>...</td>\n",
       "      <td>...</td>\n",
       "      <td>...</td>\n",
       "      <td>...</td>\n",
       "    </tr>\n",
       "    <tr>\n",
       "      <th>95</th>\n",
       "      <td>42</td>\n",
       "      <td>93</td>\n",
       "      <td>28</td>\n",
       "      <td>9</td>\n",
       "    </tr>\n",
       "    <tr>\n",
       "      <th>96</th>\n",
       "      <td>53</td>\n",
       "      <td>49</td>\n",
       "      <td>48</td>\n",
       "      <td>51</td>\n",
       "    </tr>\n",
       "    <tr>\n",
       "      <th>97</th>\n",
       "      <td>24</td>\n",
       "      <td>67</td>\n",
       "      <td>44</td>\n",
       "      <td>44</td>\n",
       "    </tr>\n",
       "    <tr>\n",
       "      <th>98</th>\n",
       "      <td>77</td>\n",
       "      <td>1</td>\n",
       "      <td>24</td>\n",
       "      <td>87</td>\n",
       "    </tr>\n",
       "    <tr>\n",
       "      <th>99</th>\n",
       "      <td>24</td>\n",
       "      <td>74</td>\n",
       "      <td>6</td>\n",
       "      <td>18</td>\n",
       "    </tr>\n",
       "  </tbody>\n",
       "</table>\n",
       "<p>100 rows × 4 columns</p>\n",
       "</div>"
      ],
      "text/plain": [
       "     A   B   C   D\n",
       "0   53  50  93  31\n",
       "1   32   4  38  38\n",
       "2   51  17  83  12\n",
       "3   24  81  85  21\n",
       "4   37  79  47  54\n",
       "..  ..  ..  ..  ..\n",
       "95  42  93  28   9\n",
       "96  53  49  48  51\n",
       "97  24  67  44  44\n",
       "98  77   1  24  87\n",
       "99  24  74   6  18\n",
       "\n",
       "[100 rows x 4 columns]"
      ]
     },
     "execution_count": 210,
     "metadata": {},
     "output_type": "execute_result"
    }
   ],
   "source": [
    "dp1"
   ]
  },
  {
   "cell_type": "code",
   "execution_count": 211,
   "id": "c3509f62",
   "metadata": {},
   "outputs": [
    {
     "data": {
      "text/html": [
       "<div>\n",
       "<style scoped>\n",
       "    .dataframe tbody tr th:only-of-type {\n",
       "        vertical-align: middle;\n",
       "    }\n",
       "\n",
       "    .dataframe tbody tr th {\n",
       "        vertical-align: top;\n",
       "    }\n",
       "\n",
       "    .dataframe thead th {\n",
       "        text-align: right;\n",
       "    }\n",
       "</style>\n",
       "<table border=\"1\" class=\"dataframe\">\n",
       "  <thead>\n",
       "    <tr style=\"text-align: right;\">\n",
       "      <th></th>\n",
       "      <th>E</th>\n",
       "      <th>F</th>\n",
       "      <th>G</th>\n",
       "      <th>H</th>\n",
       "    </tr>\n",
       "  </thead>\n",
       "  <tbody>\n",
       "    <tr>\n",
       "      <th>0</th>\n",
       "      <td>322</td>\n",
       "      <td>339</td>\n",
       "      <td>323</td>\n",
       "      <td>386</td>\n",
       "    </tr>\n",
       "    <tr>\n",
       "      <th>1</th>\n",
       "      <td>250</td>\n",
       "      <td>232</td>\n",
       "      <td>399</td>\n",
       "      <td>258</td>\n",
       "    </tr>\n",
       "    <tr>\n",
       "      <th>2</th>\n",
       "      <td>246</td>\n",
       "      <td>293</td>\n",
       "      <td>208</td>\n",
       "      <td>390</td>\n",
       "    </tr>\n",
       "    <tr>\n",
       "      <th>3</th>\n",
       "      <td>257</td>\n",
       "      <td>339</td>\n",
       "      <td>206</td>\n",
       "      <td>274</td>\n",
       "    </tr>\n",
       "    <tr>\n",
       "      <th>4</th>\n",
       "      <td>384</td>\n",
       "      <td>239</td>\n",
       "      <td>373</td>\n",
       "      <td>399</td>\n",
       "    </tr>\n",
       "    <tr>\n",
       "      <th>...</th>\n",
       "      <td>...</td>\n",
       "      <td>...</td>\n",
       "      <td>...</td>\n",
       "      <td>...</td>\n",
       "    </tr>\n",
       "    <tr>\n",
       "      <th>95</th>\n",
       "      <td>240</td>\n",
       "      <td>352</td>\n",
       "      <td>340</td>\n",
       "      <td>342</td>\n",
       "    </tr>\n",
       "    <tr>\n",
       "      <th>96</th>\n",
       "      <td>328</td>\n",
       "      <td>278</td>\n",
       "      <td>312</td>\n",
       "      <td>212</td>\n",
       "    </tr>\n",
       "    <tr>\n",
       "      <th>97</th>\n",
       "      <td>283</td>\n",
       "      <td>216</td>\n",
       "      <td>393</td>\n",
       "      <td>200</td>\n",
       "    </tr>\n",
       "    <tr>\n",
       "      <th>98</th>\n",
       "      <td>327</td>\n",
       "      <td>265</td>\n",
       "      <td>366</td>\n",
       "      <td>200</td>\n",
       "    </tr>\n",
       "    <tr>\n",
       "      <th>99</th>\n",
       "      <td>338</td>\n",
       "      <td>277</td>\n",
       "      <td>341</td>\n",
       "      <td>242</td>\n",
       "    </tr>\n",
       "  </tbody>\n",
       "</table>\n",
       "<p>100 rows × 4 columns</p>\n",
       "</div>"
      ],
      "text/plain": [
       "      E    F    G    H\n",
       "0   322  339  323  386\n",
       "1   250  232  399  258\n",
       "2   246  293  208  390\n",
       "3   257  339  206  274\n",
       "4   384  239  373  399\n",
       "..  ...  ...  ...  ...\n",
       "95  240  352  340  342\n",
       "96  328  278  312  212\n",
       "97  283  216  393  200\n",
       "98  327  265  366  200\n",
       "99  338  277  341  242\n",
       "\n",
       "[100 rows x 4 columns]"
      ]
     },
     "execution_count": 211,
     "metadata": {},
     "output_type": "execute_result"
    }
   ],
   "source": [
    "dp2"
   ]
  },
  {
   "cell_type": "code",
   "execution_count": 215,
   "id": "a4fb1127",
   "metadata": {},
   "outputs": [
    {
     "data": {
      "text/html": [
       "<div>\n",
       "<style scoped>\n",
       "    .dataframe tbody tr th:only-of-type {\n",
       "        vertical-align: middle;\n",
       "    }\n",
       "\n",
       "    .dataframe tbody tr th {\n",
       "        vertical-align: top;\n",
       "    }\n",
       "\n",
       "    .dataframe thead th {\n",
       "        text-align: right;\n",
       "    }\n",
       "</style>\n",
       "<table border=\"1\" class=\"dataframe\">\n",
       "  <thead>\n",
       "    <tr style=\"text-align: right;\">\n",
       "      <th></th>\n",
       "      <th>A</th>\n",
       "      <th>B</th>\n",
       "      <th>C</th>\n",
       "      <th>D</th>\n",
       "      <th>E</th>\n",
       "      <th>F</th>\n",
       "      <th>G</th>\n",
       "      <th>H</th>\n",
       "    </tr>\n",
       "  </thead>\n",
       "  <tbody>\n",
       "    <tr>\n",
       "      <th>0</th>\n",
       "      <td>53</td>\n",
       "      <td>50</td>\n",
       "      <td>93</td>\n",
       "      <td>31</td>\n",
       "      <td>322</td>\n",
       "      <td>339</td>\n",
       "      <td>323</td>\n",
       "      <td>386</td>\n",
       "    </tr>\n",
       "    <tr>\n",
       "      <th>1</th>\n",
       "      <td>32</td>\n",
       "      <td>4</td>\n",
       "      <td>38</td>\n",
       "      <td>38</td>\n",
       "      <td>250</td>\n",
       "      <td>232</td>\n",
       "      <td>399</td>\n",
       "      <td>258</td>\n",
       "    </tr>\n",
       "    <tr>\n",
       "      <th>2</th>\n",
       "      <td>51</td>\n",
       "      <td>17</td>\n",
       "      <td>83</td>\n",
       "      <td>12</td>\n",
       "      <td>246</td>\n",
       "      <td>293</td>\n",
       "      <td>208</td>\n",
       "      <td>390</td>\n",
       "    </tr>\n",
       "    <tr>\n",
       "      <th>3</th>\n",
       "      <td>24</td>\n",
       "      <td>81</td>\n",
       "      <td>85</td>\n",
       "      <td>21</td>\n",
       "      <td>257</td>\n",
       "      <td>339</td>\n",
       "      <td>206</td>\n",
       "      <td>274</td>\n",
       "    </tr>\n",
       "    <tr>\n",
       "      <th>4</th>\n",
       "      <td>37</td>\n",
       "      <td>79</td>\n",
       "      <td>47</td>\n",
       "      <td>54</td>\n",
       "      <td>384</td>\n",
       "      <td>239</td>\n",
       "      <td>373</td>\n",
       "      <td>399</td>\n",
       "    </tr>\n",
       "    <tr>\n",
       "      <th>...</th>\n",
       "      <td>...</td>\n",
       "      <td>...</td>\n",
       "      <td>...</td>\n",
       "      <td>...</td>\n",
       "      <td>...</td>\n",
       "      <td>...</td>\n",
       "      <td>...</td>\n",
       "      <td>...</td>\n",
       "    </tr>\n",
       "    <tr>\n",
       "      <th>95</th>\n",
       "      <td>42</td>\n",
       "      <td>93</td>\n",
       "      <td>28</td>\n",
       "      <td>9</td>\n",
       "      <td>240</td>\n",
       "      <td>352</td>\n",
       "      <td>340</td>\n",
       "      <td>342</td>\n",
       "    </tr>\n",
       "    <tr>\n",
       "      <th>96</th>\n",
       "      <td>53</td>\n",
       "      <td>49</td>\n",
       "      <td>48</td>\n",
       "      <td>51</td>\n",
       "      <td>328</td>\n",
       "      <td>278</td>\n",
       "      <td>312</td>\n",
       "      <td>212</td>\n",
       "    </tr>\n",
       "    <tr>\n",
       "      <th>97</th>\n",
       "      <td>24</td>\n",
       "      <td>67</td>\n",
       "      <td>44</td>\n",
       "      <td>44</td>\n",
       "      <td>283</td>\n",
       "      <td>216</td>\n",
       "      <td>393</td>\n",
       "      <td>200</td>\n",
       "    </tr>\n",
       "    <tr>\n",
       "      <th>98</th>\n",
       "      <td>77</td>\n",
       "      <td>1</td>\n",
       "      <td>24</td>\n",
       "      <td>87</td>\n",
       "      <td>327</td>\n",
       "      <td>265</td>\n",
       "      <td>366</td>\n",
       "      <td>200</td>\n",
       "    </tr>\n",
       "    <tr>\n",
       "      <th>99</th>\n",
       "      <td>24</td>\n",
       "      <td>74</td>\n",
       "      <td>6</td>\n",
       "      <td>18</td>\n",
       "      <td>338</td>\n",
       "      <td>277</td>\n",
       "      <td>341</td>\n",
       "      <td>242</td>\n",
       "    </tr>\n",
       "  </tbody>\n",
       "</table>\n",
       "<p>100 rows × 8 columns</p>\n",
       "</div>"
      ],
      "text/plain": [
       "     A   B   C   D    E    F    G    H\n",
       "0   53  50  93  31  322  339  323  386\n",
       "1   32   4  38  38  250  232  399  258\n",
       "2   51  17  83  12  246  293  208  390\n",
       "3   24  81  85  21  257  339  206  274\n",
       "4   37  79  47  54  384  239  373  399\n",
       "..  ..  ..  ..  ..  ...  ...  ...  ...\n",
       "95  42  93  28   9  240  352  340  342\n",
       "96  53  49  48  51  328  278  312  212\n",
       "97  24  67  44  44  283  216  393  200\n",
       "98  77   1  24  87  327  265  366  200\n",
       "99  24  74   6  18  338  277  341  242\n",
       "\n",
       "[100 rows x 8 columns]"
      ]
     },
     "execution_count": 215,
     "metadata": {},
     "output_type": "execute_result"
    }
   ],
   "source": [
    "pd.concat([dp1, dp2], axis = 1)"
   ]
  },
  {
   "cell_type": "markdown",
   "id": "4447e8f3",
   "metadata": {},
   "source": [
    "#### q10"
   ]
  },
  {
   "cell_type": "code",
   "execution_count": 216,
   "id": "b9b85fee",
   "metadata": {},
   "outputs": [
    {
     "data": {
      "text/html": [
       "<div>\n",
       "<style scoped>\n",
       "    .dataframe tbody tr th:only-of-type {\n",
       "        vertical-align: middle;\n",
       "    }\n",
       "\n",
       "    .dataframe tbody tr th {\n",
       "        vertical-align: top;\n",
       "    }\n",
       "\n",
       "    .dataframe thead th {\n",
       "        text-align: right;\n",
       "    }\n",
       "</style>\n",
       "<table border=\"1\" class=\"dataframe\">\n",
       "  <thead>\n",
       "    <tr style=\"text-align: right;\">\n",
       "      <th></th>\n",
       "      <th>Year</th>\n",
       "      <th>Species</th>\n",
       "      <th>Wing</th>\n",
       "      <th>Weight</th>\n",
       "      <th>Tail</th>\n",
       "      <th>Hallux</th>\n",
       "      <th>Coopers?</th>\n",
       "      <th>Red-tailed?</th>\n",
       "      <th>Sharp-shinned?</th>\n",
       "    </tr>\n",
       "  </thead>\n",
       "  <tbody>\n",
       "    <tr>\n",
       "      <th>0</th>\n",
       "      <td>1994</td>\n",
       "      <td>RT</td>\n",
       "      <td>277.0</td>\n",
       "      <td>940.0</td>\n",
       "      <td>218</td>\n",
       "      <td>30.4</td>\n",
       "      <td>0</td>\n",
       "      <td>1</td>\n",
       "      <td>0</td>\n",
       "    </tr>\n",
       "    <tr>\n",
       "      <th>1</th>\n",
       "      <td>1997</td>\n",
       "      <td>RT</td>\n",
       "      <td>373.0</td>\n",
       "      <td>914.0</td>\n",
       "      <td>221</td>\n",
       "      <td>30.4</td>\n",
       "      <td>0</td>\n",
       "      <td>1</td>\n",
       "      <td>0</td>\n",
       "    </tr>\n",
       "    <tr>\n",
       "      <th>2</th>\n",
       "      <td>2000</td>\n",
       "      <td>RT</td>\n",
       "      <td>379.0</td>\n",
       "      <td>1000.0</td>\n",
       "      <td>217</td>\n",
       "      <td>32.2</td>\n",
       "      <td>0</td>\n",
       "      <td>1</td>\n",
       "      <td>0</td>\n",
       "    </tr>\n",
       "    <tr>\n",
       "      <th>3</th>\n",
       "      <td>2000</td>\n",
       "      <td>RT</td>\n",
       "      <td>392.0</td>\n",
       "      <td>1185.0</td>\n",
       "      <td>229</td>\n",
       "      <td>33.0</td>\n",
       "      <td>0</td>\n",
       "      <td>1</td>\n",
       "      <td>0</td>\n",
       "    </tr>\n",
       "    <tr>\n",
       "      <th>4</th>\n",
       "      <td>2002</td>\n",
       "      <td>RT</td>\n",
       "      <td>365.0</td>\n",
       "      <td>1125.0</td>\n",
       "      <td>213</td>\n",
       "      <td>29.3</td>\n",
       "      <td>0</td>\n",
       "      <td>1</td>\n",
       "      <td>0</td>\n",
       "    </tr>\n",
       "    <tr>\n",
       "      <th>...</th>\n",
       "      <td>...</td>\n",
       "      <td>...</td>\n",
       "      <td>...</td>\n",
       "      <td>...</td>\n",
       "      <td>...</td>\n",
       "      <td>...</td>\n",
       "      <td>...</td>\n",
       "      <td>...</td>\n",
       "      <td>...</td>\n",
       "    </tr>\n",
       "    <tr>\n",
       "      <th>441</th>\n",
       "      <td>1995</td>\n",
       "      <td>RT</td>\n",
       "      <td>398.0</td>\n",
       "      <td>1240.0</td>\n",
       "      <td>243</td>\n",
       "      <td>30.8</td>\n",
       "      <td>0</td>\n",
       "      <td>1</td>\n",
       "      <td>0</td>\n",
       "    </tr>\n",
       "    <tr>\n",
       "      <th>442</th>\n",
       "      <td>2002</td>\n",
       "      <td>SS</td>\n",
       "      <td>166.0</td>\n",
       "      <td>115.0</td>\n",
       "      <td>136</td>\n",
       "      <td>11.6</td>\n",
       "      <td>0</td>\n",
       "      <td>0</td>\n",
       "      <td>1</td>\n",
       "    </tr>\n",
       "    <tr>\n",
       "      <th>443</th>\n",
       "      <td>2002</td>\n",
       "      <td>RT</td>\n",
       "      <td>412.0</td>\n",
       "      <td>1215.0</td>\n",
       "      <td>230</td>\n",
       "      <td>34.1</td>\n",
       "      <td>0</td>\n",
       "      <td>1</td>\n",
       "      <td>0</td>\n",
       "    </tr>\n",
       "    <tr>\n",
       "      <th>444</th>\n",
       "      <td>1994</td>\n",
       "      <td>SS</td>\n",
       "      <td>201.0</td>\n",
       "      <td>206.0</td>\n",
       "      <td>151</td>\n",
       "      <td>13.5</td>\n",
       "      <td>0</td>\n",
       "      <td>0</td>\n",
       "      <td>1</td>\n",
       "    </tr>\n",
       "    <tr>\n",
       "      <th>445</th>\n",
       "      <td>1994</td>\n",
       "      <td>RT</td>\n",
       "      <td>418.0</td>\n",
       "      <td>1180.0</td>\n",
       "      <td>235</td>\n",
       "      <td>341.4</td>\n",
       "      <td>0</td>\n",
       "      <td>1</td>\n",
       "      <td>0</td>\n",
       "    </tr>\n",
       "  </tbody>\n",
       "</table>\n",
       "<p>446 rows × 9 columns</p>\n",
       "</div>"
      ],
      "text/plain": [
       "     Year Species   Wing  Weight  Tail  Hallux  Coopers?  Red-tailed?  \\\n",
       "0    1994      RT  277.0   940.0   218    30.4         0            1   \n",
       "1    1997      RT  373.0   914.0   221    30.4         0            1   \n",
       "2    2000      RT  379.0  1000.0   217    32.2         0            1   \n",
       "3    2000      RT  392.0  1185.0   229    33.0         0            1   \n",
       "4    2002      RT  365.0  1125.0   213    29.3         0            1   \n",
       "..    ...     ...    ...     ...   ...     ...       ...          ...   \n",
       "441  1995      RT  398.0  1240.0   243    30.8         0            1   \n",
       "442  2002      SS  166.0   115.0   136    11.6         0            0   \n",
       "443  2002      RT  412.0  1215.0   230    34.1         0            1   \n",
       "444  1994      SS  201.0   206.0   151    13.5         0            0   \n",
       "445  1994      RT  418.0  1180.0   235   341.4         0            1   \n",
       "\n",
       "     Sharp-shinned?  \n",
       "0                 0  \n",
       "1                 0  \n",
       "2                 0  \n",
       "3                 0  \n",
       "4                 0  \n",
       "..              ...  \n",
       "441               0  \n",
       "442               1  \n",
       "443               0  \n",
       "444               1  \n",
       "445               0  \n",
       "\n",
       "[446 rows x 9 columns]"
      ]
     },
     "execution_count": 216,
     "metadata": {},
     "output_type": "execute_result"
    }
   ],
   "source": [
    "df1"
   ]
  },
  {
   "cell_type": "code",
   "execution_count": 230,
   "id": "d7fc64ed",
   "metadata": {},
   "outputs": [
    {
     "data": {
      "image/png": "[encoded data removed]",
      "text/plain": [
       "<Figure size 504x360 with 1 Axes>"
      ]
     },
     "metadata": {
      "needs_background": "light"
     },
     "output_type": "display_data"
    }
   ],
   "source": [
    "colors = ['Red', 'Green']\n",
    "plt.figure(figsize = (7,5))\n",
    "plt.scatter(df1.Weight, df1.Wing, marker='*', c=colors[0])\n",
    "plt.scatter(df1.Weight, df1.Tail, marker='D', c=colors[1])\n",
    "\n",
    "plt.show()"
   ]
  }
 ],
 "metadata": {
  "kernelspec": {
   "display_name": "Python 3 (ipykernel)",
   "language": "python",
   "name": "python3"
  },
  "language_info": {
   "codemirror_mode": {
    "name": "ipython",
    "version": 3
   },
   "file_extension": ".py",
   "mimetype": "text/x-python",
   "name": "python",
   "nbconvert_exporter": "python",
   "pygments_lexer": "ipython3",
   "version": "3.9.7"
  }
 },
 "nbformat": 4,
 "nbformat_minor": 5
}
